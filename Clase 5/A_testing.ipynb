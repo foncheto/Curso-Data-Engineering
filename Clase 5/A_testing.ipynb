{
 "cells": [
  {
   "cell_type": "markdown",
   "metadata": {},
   "source": [
    "# PRIMERA PARTE (Conexión a Redshift)"
   ]
  },
  {
   "cell_type": "markdown",
   "metadata": {},
   "source": [
    "### Alfonso Pinto CoderHouse"
   ]
  },
  {
   "cell_type": "code",
   "execution_count": 1,
   "metadata": {},
   "outputs": [],
   "source": [
    "# Importo librerias\n",
    "# pip install psycopg2 pandas python-dotenv\n",
    "import pandas as pd\n",
    "import psycopg2\n",
    "import os\n",
    "from dotenv import load_dotenv\n",
    "from psycopg2.extras import execute_values\n"
   ]
  },
  {
   "cell_type": "code",
   "execution_count": 2,
   "metadata": {},
   "outputs": [
    {
     "name": "stdout",
     "output_type": "stream",
     "text": [
      "Connected to Redshift successfully!\n"
     ]
    }
   ],
   "source": [
    "load_dotenv()\n",
    "\n",
    "# Se cargan las credenciales, a partir de un archivo .env, de la base de datos y se realiza la conexión.\n",
    "\n",
    "CODER_REDSHIFT_HOST = os.environ.get('CODER_REDSHIFT_HOST')\n",
    "CODER_REDSHIFT_DB = os.environ.get('CODER_REDSHIFT_DB')\n",
    "CODER_REDSHIFT_USER = os.environ.get('CODER_REDSHIFT_USER')\n",
    "CODER_REDSHIFT_PASS = os.environ.get('CODER_REDSHIFT_PASS')\n",
    "CODER_REDSHIFT_PORT = os.environ.get('CODER_REDSHIFT_PORT')\n",
    "\n",
    "try:\n",
    "    conn = psycopg2.connect(\n",
    "        host=CODER_REDSHIFT_HOST,\n",
    "        dbname=CODER_REDSHIFT_DB,\n",
    "        user=CODER_REDSHIFT_USER,\n",
    "        password=CODER_REDSHIFT_PASS,\n",
    "        port=CODER_REDSHIFT_PORT,\n",
    "\n",
    "    )\n",
    "    print(\"Connected to Redshift successfully!\")\n",
    "    \n",
    "except Exception as e:\n",
    "    print(\"Unable to connect to Redshift.\")\n",
    "    print(e)"
   ]
  },
  {
   "cell_type": "markdown",
   "metadata": {},
   "source": [
    "# SEGUNDA PARTE (Conexión y Parsing de Datos a partir de API AlphaVantage)"
   ]
  },
  {
   "cell_type": "code",
   "execution_count": 18,
   "metadata": {},
   "outputs": [],
   "source": [
    "import requests\n",
    "\n",
    "alphavantage_api_key = os.environ.get('ALPHAVANTAGE_API_KEY')"
   ]
  },
  {
   "cell_type": "code",
   "execution_count": 24,
   "metadata": {},
   "outputs": [],
   "source": [
    "def get_json(symbol):\n",
    "    # Se realiza la petición a la API de Alpha Vantage con el símbolo de la acción y la llave de la API\n",
    "    # La llave de la API se encuentra en el archivo .env y es gratuita, se puede obtener en https://www.alphavantage.co/support/#api-key.\n",
    "    # AL no tener opciones de pago, la API solo permite 5 peticiones por minuto y 500 peticiones por día.\n",
    "    url = f\"https://www.alphavantage.co/query?function=TIME_SERIES_MONTHLY_ADJUSTED&symbol={symbol}&interval=5min&apikey={alphavantage_api_key}\"\n",
    "    r = requests.get(url)\n",
    "    print(r)\n",
    "    return r.json()\n",
    "def json_a_diccionario(json):\n",
    "    # Se crea un diccionario vacío\n",
    "    diccionario = {}\n",
    "    # Se itera sobre las llaves del json\n",
    "    for llave in json.keys():\n",
    "        diccionario[llave] = json[llave]\n",
    "    return diccionario\n",
    "def format_json(json, symbol):\n",
    "    # Se crea un DataFrame en Pandas a partir del json y se transpone para que las columnas sean los datos y las filas los días\n",
    "    df = pd.DataFrame(json['Monthly Adjusted Time Series']).T\n",
    "    # Se cambian los nombres de las columnas para que no tengan enumeración\n",
    "    df.rename(columns=lambda x: x[3:], inplace=True)\n",
    "    # Agregar columna index\n",
    "    df['date'] = df.index\n",
    "    df.reset_index(drop=True, inplace=True)\n",
    "    # Se definen los tipos de datos de las columnas ya que naturalmente son todos strings VARCHAR\n",
    "    df['date'] = pd.to_datetime(df['date'])\n",
    "    df['open'] = pd.to_numeric(df['open'])\n",
    "    df['high'] = pd.to_numeric(df['high'])\n",
    "    df['low'] = pd.to_numeric(df['low'])\n",
    "    df['close'] = pd.to_numeric(df['close'])\n",
    "    df['adjusted close'] = pd.to_numeric(df['adjusted close'])\n",
    "    # Cambiar volumen a millones\n",
    "    df['volume'] = pd.to_numeric(df['volume'])\n",
    "    df['volume'] = round(df['volume'] / 1000000)\n",
    "    df['volume'] = df['volume'].astype(int)\n",
    "    df['dividend amount'] = pd.to_numeric(df['dividend amount'])\n",
    "    #Se agrega la columna symbol con el símbolo de la acción\n",
    "    df['symbol'] = symbol\n",
    "    df['symbol'] = df['symbol'].astype(str)\n",
    "    #Se devuelve el DataFrame ya transformado\n",
    "    return df"
   ]
  },
  {
   "cell_type": "code",
   "execution_count": 23,
   "metadata": {},
   "outputs": [
    {
     "name": "stdout",
     "output_type": "stream",
     "text": [
      "<Response [200]>\n"
     ]
    },
    {
     "data": {
      "text/plain": [
       "dict_keys(['2023-10-11', '2023-09-29', '2023-08-31', '2023-07-31', '2023-06-30', '2023-05-31', '2023-04-28', '2023-03-31', '2023-02-28', '2023-01-31', '2022-12-30', '2022-11-30', '2022-10-31', '2022-09-30', '2022-08-31', '2022-07-29', '2022-06-30', '2022-05-31', '2022-04-29', '2022-03-31', '2022-02-28', '2022-01-31', '2021-12-31', '2021-11-30', '2021-10-29', '2021-09-30', '2021-08-31', '2021-07-30', '2021-06-30', '2021-05-28', '2021-04-30', '2021-03-31', '2021-02-26', '2021-01-29', '2020-12-31', '2020-11-30', '2020-10-30', '2020-09-30', '2020-08-31', '2020-07-31', '2020-06-30', '2020-05-29', '2020-04-30', '2020-03-31', '2020-02-28', '2020-01-31', '2019-12-31', '2019-11-29', '2019-10-31', '2019-09-30', '2019-08-30', '2019-07-31', '2019-06-28', '2019-05-31', '2019-04-30', '2019-03-29', '2019-02-28', '2019-01-31', '2018-12-31', '2018-11-30', '2018-10-31', '2018-09-28', '2018-08-31', '2018-07-31', '2018-06-29', '2018-05-31', '2018-04-30', '2018-03-29', '2018-02-28', '2018-01-31', '2017-12-29', '2017-11-30', '2017-10-31', '2017-09-29', '2017-08-31', '2017-07-31', '2017-06-30', '2017-05-31', '2017-04-28', '2017-03-31', '2017-02-28', '2017-01-31', '2016-12-30', '2016-11-30', '2016-10-31', '2016-09-30', '2016-08-31', '2016-07-29', '2016-06-30', '2016-05-31', '2016-04-29', '2016-03-31', '2016-02-29', '2016-01-29', '2015-12-31', '2015-11-30', '2015-10-30', '2015-09-30', '2015-08-31', '2015-07-31', '2015-06-30', '2015-05-29', '2015-04-30', '2015-03-31', '2015-02-27', '2015-01-30', '2014-12-31', '2014-11-28', '2014-10-31', '2014-09-30', '2014-08-29', '2014-07-31', '2014-06-30', '2014-05-30', '2014-04-30', '2014-03-31', '2014-02-28', '2014-01-31', '2013-12-31', '2013-11-29', '2013-10-31', '2013-09-30', '2013-08-30', '2013-07-31', '2013-06-28', '2013-05-31', '2013-04-30', '2013-03-28', '2013-02-28', '2013-01-31', '2012-12-31', '2012-11-30', '2012-10-31', '2012-09-28', '2012-08-31', '2012-07-31', '2012-06-29', '2012-05-31', '2012-04-30', '2012-03-30', '2012-02-29', '2012-01-31', '2011-12-30', '2011-11-30', '2011-10-31', '2011-09-30', '2011-08-31', '2011-07-29', '2011-06-30', '2011-05-31', '2011-04-29', '2011-03-31', '2011-02-28', '2011-01-31', '2010-12-31', '2010-11-30', '2010-10-29', '2010-09-30', '2010-08-31', '2010-07-30', '2010-06-30', '2010-05-28', '2010-04-30', '2010-03-31', '2010-02-26', '2010-01-29', '2009-12-31', '2009-11-30', '2009-10-30', '2009-09-30', '2009-08-31', '2009-07-31', '2009-06-30', '2009-05-29', '2009-04-30', '2009-03-31', '2009-02-27', '2009-01-30', '2008-12-31', '2008-11-28', '2008-10-31', '2008-09-30', '2008-08-29', '2008-07-31', '2008-06-30', '2008-05-30', '2008-04-30', '2008-03-31', '2008-02-29', '2008-01-31', '2007-12-31', '2007-11-30', '2007-10-31', '2007-09-28', '2007-08-31', '2007-07-31', '2007-06-29', '2007-05-31', '2007-04-30', '2007-03-30', '2007-02-28', '2007-01-31', '2006-12-29', '2006-11-30', '2006-10-31', '2006-09-29', '2006-08-31', '2006-07-31', '2006-06-30', '2006-05-31', '2006-04-28', '2006-03-31', '2006-02-28', '2006-01-31', '2005-12-30', '2005-11-30', '2005-10-31', '2005-09-30', '2005-08-31', '2005-07-29', '2005-06-30', '2005-05-31', '2005-04-29', '2005-03-31', '2005-02-28', '2005-01-31', '2004-12-31', '2004-11-30', '2004-10-29', '2004-09-30', '2004-08-31', '2004-07-30', '2004-06-30', '2004-05-28', '2004-04-30', '2004-03-31', '2004-02-27', '2004-01-30', '2003-12-31', '2003-11-28', '2003-10-31', '2003-09-30', '2003-08-29', '2003-07-31', '2003-06-30', '2003-05-30', '2003-04-30', '2003-03-31', '2003-02-28', '2003-01-31', '2002-12-31', '2002-11-29', '2002-10-31', '2002-09-30', '2002-08-30', '2002-07-31', '2002-06-28', '2002-05-31', '2002-04-30', '2002-03-28', '2002-02-28', '2002-01-31', '2001-12-31', '2001-11-30', '2001-10-31', '2001-09-28', '2001-08-31', '2001-07-31', '2001-06-29', '2001-05-31', '2001-04-30', '2001-03-30', '2001-02-28', '2001-01-31', '2000-12-29', '2000-11-30', '2000-10-31', '2000-09-29', '2000-08-31', '2000-07-31', '2000-06-30', '2000-05-31', '2000-04-28', '2000-03-31', '2000-02-29', '2000-01-31', '1999-12-31'])"
      ]
     },
     "execution_count": 23,
     "metadata": {},
     "output_type": "execute_result"
    }
   ],
   "source": [
    "# Apple\n",
    "data = get_json('AAPL')\n",
    "dict = json_a_diccionario(data)\n",
    "dict = dict['Monthly Adjusted Time Series'] #No nos interesa la metadata por lo que solo seleccionamos el diccionario que contiene los datos\n",
    "dict.keys()\n",
    "#Nos encontramos con que el diccionario tiene como llaves las fechas y como valores los datos de cada fecha por lo que procedemos a convertirlo en un dataframe para luego transponerlo y poder trabajar con el."
   ]
  },
  {
   "cell_type": "code",
   "execution_count": 5,
   "metadata": {},
   "outputs": [
    {
     "name": "stdout",
     "output_type": "stream",
     "text": [
      "<Response [200]>\n"
     ]
    },
    {
     "data": {
      "text/html": [
       "<div>\n",
       "<style scoped>\n",
       "    .dataframe tbody tr th:only-of-type {\n",
       "        vertical-align: middle;\n",
       "    }\n",
       "\n",
       "    .dataframe tbody tr th {\n",
       "        vertical-align: top;\n",
       "    }\n",
       "\n",
       "    .dataframe thead th {\n",
       "        text-align: right;\n",
       "    }\n",
       "</style>\n",
       "<table border=\"1\" class=\"dataframe\">\n",
       "  <thead>\n",
       "    <tr style=\"text-align: right;\">\n",
       "      <th></th>\n",
       "      <th>open</th>\n",
       "      <th>high</th>\n",
       "      <th>low</th>\n",
       "      <th>close</th>\n",
       "      <th>adjusted close</th>\n",
       "      <th>volume</th>\n",
       "      <th>dividend amount</th>\n",
       "      <th>date</th>\n",
       "      <th>symbol</th>\n",
       "    </tr>\n",
       "  </thead>\n",
       "  <tbody>\n",
       "    <tr>\n",
       "      <th>0</th>\n",
       "      <td>171.220</td>\n",
       "      <td>179.85</td>\n",
       "      <td>170.82</td>\n",
       "      <td>179.80</td>\n",
       "      <td>179.80</td>\n",
       "      <td>394</td>\n",
       "      <td>0.0</td>\n",
       "      <td>2023-10-11</td>\n",
       "      <td>AAPL</td>\n",
       "    </tr>\n",
       "    <tr>\n",
       "      <th>1</th>\n",
       "      <td>189.485</td>\n",
       "      <td>189.98</td>\n",
       "      <td>167.62</td>\n",
       "      <td>171.21</td>\n",
       "      <td>171.21</td>\n",
       "      <td>1338</td>\n",
       "      <td>0.0</td>\n",
       "      <td>2023-09-29</td>\n",
       "      <td>AAPL</td>\n",
       "    </tr>\n",
       "  </tbody>\n",
       "</table>\n",
       "</div>"
      ],
      "text/plain": [
       "      open    high     low   close  adjusted close  volume  dividend amount  \\\n",
       "0  171.220  179.85  170.82  179.80          179.80     394              0.0   \n",
       "1  189.485  189.98  167.62  171.21          171.21    1338              0.0   \n",
       "\n",
       "        date symbol  \n",
       "0 2023-10-11   AAPL  \n",
       "1 2023-09-29   AAPL  "
      ]
     },
     "execution_count": 5,
     "metadata": {},
     "output_type": "execute_result"
    }
   ],
   "source": [
    "df_aapl = format_json(data, 'AAPL')\n",
    "df_aapl.head(2)"
   ]
  },
  {
   "cell_type": "code",
   "execution_count": 7,
   "metadata": {},
   "outputs": [
    {
     "name": "stdout",
     "output_type": "stream",
     "text": [
      "<Response [200]>\n"
     ]
    },
    {
     "data": {
      "text/html": [
       "<div>\n",
       "<style scoped>\n",
       "    .dataframe tbody tr th:only-of-type {\n",
       "        vertical-align: middle;\n",
       "    }\n",
       "\n",
       "    .dataframe tbody tr th {\n",
       "        vertical-align: top;\n",
       "    }\n",
       "\n",
       "    .dataframe thead th {\n",
       "        text-align: right;\n",
       "    }\n",
       "</style>\n",
       "<table border=\"1\" class=\"dataframe\">\n",
       "  <thead>\n",
       "    <tr style=\"text-align: right;\">\n",
       "      <th></th>\n",
       "      <th>open</th>\n",
       "      <th>high</th>\n",
       "      <th>low</th>\n",
       "      <th>close</th>\n",
       "      <th>adjusted close</th>\n",
       "      <th>volume</th>\n",
       "      <th>dividend amount</th>\n",
       "      <th>date</th>\n",
       "      <th>symbol</th>\n",
       "    </tr>\n",
       "  </thead>\n",
       "  <tbody>\n",
       "    <tr>\n",
       "      <th>0</th>\n",
       "      <td>127.280</td>\n",
       "      <td>132.05</td>\n",
       "      <td>124.13</td>\n",
       "      <td>131.83</td>\n",
       "      <td>131.83</td>\n",
       "      <td>352</td>\n",
       "      <td>0.0</td>\n",
       "      <td>2023-10-11</td>\n",
       "      <td>AMZN</td>\n",
       "    </tr>\n",
       "    <tr>\n",
       "      <th>1</th>\n",
       "      <td>139.455</td>\n",
       "      <td>145.86</td>\n",
       "      <td>123.04</td>\n",
       "      <td>127.12</td>\n",
       "      <td>127.12</td>\n",
       "      <td>1121</td>\n",
       "      <td>0.0</td>\n",
       "      <td>2023-09-29</td>\n",
       "      <td>AMZN</td>\n",
       "    </tr>\n",
       "  </tbody>\n",
       "</table>\n",
       "</div>"
      ],
      "text/plain": [
       "      open    high     low   close  adjusted close  volume  dividend amount  \\\n",
       "0  127.280  132.05  124.13  131.83          131.83     352              0.0   \n",
       "1  139.455  145.86  123.04  127.12          127.12    1121              0.0   \n",
       "\n",
       "        date symbol  \n",
       "0 2023-10-11   AMZN  \n",
       "1 2023-09-29   AMZN  "
      ]
     },
     "execution_count": 7,
     "metadata": {},
     "output_type": "execute_result"
    }
   ],
   "source": [
    "# Amazon\n",
    "data = get_json('AMZN')\n",
    "df_amzn = format_json(data, 'AMZN')\n",
    "df_amzn.head(2)"
   ]
  },
  {
   "cell_type": "code",
   "execution_count": 25,
   "metadata": {},
   "outputs": [
    {
     "name": "stdout",
     "output_type": "stream",
     "text": [
      "<Response [200]>\n"
     ]
    },
    {
     "data": {
      "text/html": [
       "<div>\n",
       "<style scoped>\n",
       "    .dataframe tbody tr th:only-of-type {\n",
       "        vertical-align: middle;\n",
       "    }\n",
       "\n",
       "    .dataframe tbody tr th {\n",
       "        vertical-align: top;\n",
       "    }\n",
       "\n",
       "    .dataframe thead th {\n",
       "        text-align: right;\n",
       "    }\n",
       "</style>\n",
       "<table border=\"1\" class=\"dataframe\">\n",
       "  <thead>\n",
       "    <tr style=\"text-align: right;\">\n",
       "      <th></th>\n",
       "      <th>open</th>\n",
       "      <th>high</th>\n",
       "      <th>low</th>\n",
       "      <th>close</th>\n",
       "      <th>adjusted close</th>\n",
       "      <th>volume</th>\n",
       "      <th>dividend amount</th>\n",
       "      <th>date</th>\n",
       "      <th>symbol</th>\n",
       "    </tr>\n",
       "  </thead>\n",
       "  <tbody>\n",
       "    <tr>\n",
       "      <th>0</th>\n",
       "      <td>132.155</td>\n",
       "      <td>142.22</td>\n",
       "      <td>132.065</td>\n",
       "      <td>141.70</td>\n",
       "      <td>141.70</td>\n",
       "      <td>155</td>\n",
       "      <td>0.0</td>\n",
       "      <td>2023-10-11</td>\n",
       "      <td>GOOG</td>\n",
       "    </tr>\n",
       "    <tr>\n",
       "      <th>1</th>\n",
       "      <td>138.430</td>\n",
       "      <td>139.93</td>\n",
       "      <td>128.190</td>\n",
       "      <td>131.85</td>\n",
       "      <td>131.85</td>\n",
       "      <td>390</td>\n",
       "      <td>0.0</td>\n",
       "      <td>2023-09-29</td>\n",
       "      <td>GOOG</td>\n",
       "    </tr>\n",
       "  </tbody>\n",
       "</table>\n",
       "</div>"
      ],
      "text/plain": [
       "      open    high      low   close  adjusted close  volume  dividend amount  \\\n",
       "0  132.155  142.22  132.065  141.70          141.70     155              0.0   \n",
       "1  138.430  139.93  128.190  131.85          131.85     390              0.0   \n",
       "\n",
       "        date symbol  \n",
       "0 2023-10-11   GOOG  \n",
       "1 2023-09-29   GOOG  "
      ]
     },
     "execution_count": 25,
     "metadata": {},
     "output_type": "execute_result"
    }
   ],
   "source": [
    "# Google\n",
    "data = get_json('GOOG')\n",
    "df_goog = format_json(data, 'GOOG')\n",
    "df_goog.head(2)"
   ]
  },
  {
   "cell_type": "code",
   "execution_count": 26,
   "metadata": {},
   "outputs": [
    {
     "name": "stdout",
     "output_type": "stream",
     "text": [
      "<Response [200]>\n"
     ]
    },
    {
     "data": {
      "text/html": [
       "<div>\n",
       "<style scoped>\n",
       "    .dataframe tbody tr th:only-of-type {\n",
       "        vertical-align: middle;\n",
       "    }\n",
       "\n",
       "    .dataframe tbody tr th {\n",
       "        vertical-align: top;\n",
       "    }\n",
       "\n",
       "    .dataframe thead th {\n",
       "        text-align: right;\n",
       "    }\n",
       "</style>\n",
       "<table border=\"1\" class=\"dataframe\">\n",
       "  <thead>\n",
       "    <tr style=\"text-align: right;\">\n",
       "      <th></th>\n",
       "      <th>open</th>\n",
       "      <th>high</th>\n",
       "      <th>low</th>\n",
       "      <th>close</th>\n",
       "      <th>adjusted close</th>\n",
       "      <th>volume</th>\n",
       "      <th>dividend amount</th>\n",
       "      <th>date</th>\n",
       "      <th>symbol</th>\n",
       "    </tr>\n",
       "  </thead>\n",
       "  <tbody>\n",
       "    <tr>\n",
       "      <th>0</th>\n",
       "      <td>316.28</td>\n",
       "      <td>332.82</td>\n",
       "      <td>311.215</td>\n",
       "      <td>332.42</td>\n",
       "      <td>332.42</td>\n",
       "      <td>165</td>\n",
       "      <td>0.0</td>\n",
       "      <td>2023-10-11</td>\n",
       "      <td>MSFT</td>\n",
       "    </tr>\n",
       "    <tr>\n",
       "      <th>1</th>\n",
       "      <td>331.31</td>\n",
       "      <td>340.86</td>\n",
       "      <td>309.450</td>\n",
       "      <td>315.75</td>\n",
       "      <td>315.75</td>\n",
       "      <td>417</td>\n",
       "      <td>0.0</td>\n",
       "      <td>2023-09-29</td>\n",
       "      <td>MSFT</td>\n",
       "    </tr>\n",
       "  </tbody>\n",
       "</table>\n",
       "</div>"
      ],
      "text/plain": [
       "     open    high      low   close  adjusted close  volume  dividend amount  \\\n",
       "0  316.28  332.82  311.215  332.42          332.42     165              0.0   \n",
       "1  331.31  340.86  309.450  315.75          315.75     417              0.0   \n",
       "\n",
       "        date symbol  \n",
       "0 2023-10-11   MSFT  \n",
       "1 2023-09-29   MSFT  "
      ]
     },
     "execution_count": 26,
     "metadata": {},
     "output_type": "execute_result"
    }
   ],
   "source": [
    "# Microsoft\n",
    "data = get_json('MSFT')\n",
    "df_msft = format_json(data, 'MSFT')\n",
    "df_msft.head(2)"
   ]
  },
  {
   "cell_type": "code",
   "execution_count": 10,
   "metadata": {},
   "outputs": [
    {
     "name": "stdout",
     "output_type": "stream",
     "text": [
      "<Response [200]>\n"
     ]
    },
    {
     "data": {
      "text/html": [
       "<div>\n",
       "<style scoped>\n",
       "    .dataframe tbody tr th:only-of-type {\n",
       "        vertical-align: middle;\n",
       "    }\n",
       "\n",
       "    .dataframe tbody tr th {\n",
       "        vertical-align: top;\n",
       "    }\n",
       "\n",
       "    .dataframe thead th {\n",
       "        text-align: right;\n",
       "    }\n",
       "</style>\n",
       "<table border=\"1\" class=\"dataframe\">\n",
       "  <thead>\n",
       "    <tr style=\"text-align: right;\">\n",
       "      <th></th>\n",
       "      <th>open</th>\n",
       "      <th>high</th>\n",
       "      <th>low</th>\n",
       "      <th>close</th>\n",
       "      <th>adjusted close</th>\n",
       "      <th>volume</th>\n",
       "      <th>dividend amount</th>\n",
       "      <th>date</th>\n",
       "      <th>symbol</th>\n",
       "    </tr>\n",
       "  </thead>\n",
       "  <tbody>\n",
       "    <tr>\n",
       "      <th>0</th>\n",
       "      <td>140.04</td>\n",
       "      <td>143.4150</td>\n",
       "      <td>139.86</td>\n",
       "      <td>143.23</td>\n",
       "      <td>143.23</td>\n",
       "      <td>24</td>\n",
       "      <td>0.0</td>\n",
       "      <td>2023-10-11</td>\n",
       "      <td>IBM</td>\n",
       "    </tr>\n",
       "    <tr>\n",
       "      <th>1</th>\n",
       "      <td>147.26</td>\n",
       "      <td>151.9299</td>\n",
       "      <td>139.61</td>\n",
       "      <td>140.30</td>\n",
       "      <td>140.30</td>\n",
       "      <td>83</td>\n",
       "      <td>0.0</td>\n",
       "      <td>2023-09-29</td>\n",
       "      <td>IBM</td>\n",
       "    </tr>\n",
       "  </tbody>\n",
       "</table>\n",
       "</div>"
      ],
      "text/plain": [
       "     open      high     low   close  adjusted close  volume  dividend amount  \\\n",
       "0  140.04  143.4150  139.86  143.23          143.23      24              0.0   \n",
       "1  147.26  151.9299  139.61  140.30          140.30      83              0.0   \n",
       "\n",
       "        date symbol  \n",
       "0 2023-10-11    IBM  \n",
       "1 2023-09-29    IBM  "
      ]
     },
     "execution_count": 10,
     "metadata": {},
     "output_type": "execute_result"
    }
   ],
   "source": [
    "# IBM\n",
    "data = get_json('IBM')\n",
    "df_ibm = format_json(data, 'IBM')\n",
    "df_ibm.head(2)"
   ]
  },
  {
   "cell_type": "code",
   "execution_count": 11,
   "metadata": {},
   "outputs": [
    {
     "data": {
      "text/plain": [
       "open                      float64\n",
       "high                      float64\n",
       "low                       float64\n",
       "close                     float64\n",
       "adjusted close            float64\n",
       "volume                      int32\n",
       "dividend amount           float64\n",
       "date               datetime64[ns]\n",
       "symbol                     object\n",
       "dtype: object"
      ]
     },
     "execution_count": 11,
     "metadata": {},
     "output_type": "execute_result"
    }
   ],
   "source": [
    "# Se visualiza el tipo de dato de cada columna para la creación de la tabla\n",
    "df_aapl.dtypes"
   ]
  },
  {
   "cell_type": "code",
   "execution_count": 12,
   "metadata": {},
   "outputs": [],
   "source": [
    "def cargar_en_redshift(conn, table_name, dataframe):\n",
    "    # Funcion para cargar un dataframe en una tabla de redshift, creando la tabla si no existe\n",
    "    # Definir formato tipos de datos SQL\n",
    "    dtypes = dataframe.dtypes\n",
    "    cols = list(dtypes.index)\n",
    "    print(cols)\n",
    "    tipos = list(dtypes.values)\n",
    "    type_map = {\n",
    "        'float64': 'FLOAT',\n",
    "        'int32': 'INT',\n",
    "        'datetime64[ns]': 'TIMESTAMP',\n",
    "        'object': 'VARCHAR(255)'\n",
    "    }\n",
    "    # Definir formato TIPO_DATO revisando el tipo de dato de cada columna del dataframe\n",
    "    sql_dtypes = [type_map.get(str(dtype), 'VARCHAR(255)') for dtype in tipos]\n",
    "\n",
    "    # Definir formato COLUMNA TIPO_DATO\n",
    "    column_defs = [f'\"{name}\" {data_type}' for name, data_type in zip(cols, sql_dtypes)]\n",
    "\n",
    "    # Combina las columnas y los tipos de datos en una sola cadena de SQL para crear la tabla con todas la columnas necesarias\n",
    "    table_schema = f\"\"\"\n",
    "        CREATE TABLE IF NOT EXISTS {table_name} ({', '.join(column_defs)});\n",
    "        \"\"\"\n",
    "\n",
    "    # Crear la tabla\n",
    "    cur = conn.cursor()\n",
    "    try:\n",
    "        # Se ejecuta el comando para crear la tabla creado anteriormente\n",
    "        cur.execute(table_schema)\n",
    "\n",
    "        # Generar los valores a insertar\n",
    "        values = [tuple(x) for x in dataframe.values]\n",
    "\n",
    "        # Definir el INSERT \n",
    "        insert_sql = f\"INSERT INTO {table_name} (\\\"open\\\", \\\"high\\\", \\\"low\\\", \\\"close\\\", \\\"adjusted close\\\", \\\"volume\\\", \\\"dividend amount\\\", \\\"date\\\", \\\"symbol\\\") VALUES %s\"\n",
    "\n",
    "        # Execute the transaction to insert the data\n",
    "        cur.execute(\"BEGIN\")\n",
    "        execute_values(cur, insert_sql, values)\n",
    "        cur.execute(\"COMMIT\")\n",
    "        print('Proceso terminado')\n",
    "    except Exception as e:\n",
    "        print(f\"Error: {e}\")\n",
    "        conn.rollback()  # Rollback the transaction on error\n",
    "\n",
    "def drop_table(conn, table_name):\n",
    "    # Funcion para eliminar una tabla y asi poder volver a crearla sin problemas de sobreescritura\n",
    "    cur = conn.cursor()\n",
    "    try:\n",
    "        cur.execute(f\"DROP TABLE IF EXISTS {table_name}\")\n",
    "        conn.commit()\n",
    "        print('Proceso terminado')\n",
    "    except Exception as e:\n",
    "        print(f\"Error: {e}\")\n",
    "        conn.rollback()  # Rollback the transaction on error\n"
   ]
  },
  {
   "cell_type": "code",
   "execution_count": 13,
   "metadata": {},
   "outputs": [
    {
     "name": "stdout",
     "output_type": "stream",
     "text": [
      "Proceso terminado\n"
     ]
    }
   ],
   "source": [
    "drop_table(conn=conn, table_name='apple_example')"
   ]
  },
  {
   "cell_type": "code",
   "execution_count": 14,
   "metadata": {},
   "outputs": [
    {
     "name": "stdout",
     "output_type": "stream",
     "text": [
      "['open', 'high', 'low', 'close', 'adjusted close', 'volume', 'dividend amount', 'date', 'symbol']\n",
      "Proceso terminado\n"
     ]
    }
   ],
   "source": [
    "# Prueba de la función de carga de datos con la tabla de solo el simbolo AAPL\n",
    "cargar_en_redshift(conn=conn, table_name='apple_example', dataframe=df_aapl)"
   ]
  },
  {
   "cell_type": "markdown",
   "metadata": {},
   "source": [
    "# TERCERA PARTE (Unión de Datos y Subida a Redshift)"
   ]
  },
  {
   "cell_type": "code",
   "execution_count": 15,
   "metadata": {},
   "outputs": [
    {
     "data": {
      "text/html": [
       "<div>\n",
       "<style scoped>\n",
       "    .dataframe tbody tr th:only-of-type {\n",
       "        vertical-align: middle;\n",
       "    }\n",
       "\n",
       "    .dataframe tbody tr th {\n",
       "        vertical-align: top;\n",
       "    }\n",
       "\n",
       "    .dataframe thead th {\n",
       "        text-align: right;\n",
       "    }\n",
       "</style>\n",
       "<table border=\"1\" class=\"dataframe\">\n",
       "  <thead>\n",
       "    <tr style=\"text-align: right;\">\n",
       "      <th></th>\n",
       "      <th>open</th>\n",
       "      <th>high</th>\n",
       "      <th>low</th>\n",
       "      <th>close</th>\n",
       "      <th>adjusted close</th>\n",
       "      <th>volume</th>\n",
       "      <th>dividend amount</th>\n",
       "      <th>date</th>\n",
       "      <th>symbol</th>\n",
       "    </tr>\n",
       "  </thead>\n",
       "  <tbody>\n",
       "    <tr>\n",
       "      <th>0</th>\n",
       "      <td>171.220</td>\n",
       "      <td>179.8500</td>\n",
       "      <td>170.820</td>\n",
       "      <td>179.80</td>\n",
       "      <td>179.80</td>\n",
       "      <td>394</td>\n",
       "      <td>0.0</td>\n",
       "      <td>2023-10-11</td>\n",
       "      <td>AAPL</td>\n",
       "    </tr>\n",
       "    <tr>\n",
       "      <th>1</th>\n",
       "      <td>140.040</td>\n",
       "      <td>143.4150</td>\n",
       "      <td>139.860</td>\n",
       "      <td>143.23</td>\n",
       "      <td>143.23</td>\n",
       "      <td>24</td>\n",
       "      <td>0.0</td>\n",
       "      <td>2023-10-11</td>\n",
       "      <td>IBM</td>\n",
       "    </tr>\n",
       "    <tr>\n",
       "      <th>2</th>\n",
       "      <td>132.155</td>\n",
       "      <td>142.2200</td>\n",
       "      <td>132.065</td>\n",
       "      <td>141.70</td>\n",
       "      <td>141.70</td>\n",
       "      <td>155</td>\n",
       "      <td>0.0</td>\n",
       "      <td>2023-10-11</td>\n",
       "      <td>GOOG</td>\n",
       "    </tr>\n",
       "    <tr>\n",
       "      <th>3</th>\n",
       "      <td>316.280</td>\n",
       "      <td>332.8200</td>\n",
       "      <td>311.215</td>\n",
       "      <td>332.42</td>\n",
       "      <td>332.42</td>\n",
       "      <td>165</td>\n",
       "      <td>0.0</td>\n",
       "      <td>2023-10-11</td>\n",
       "      <td>MSFT</td>\n",
       "    </tr>\n",
       "    <tr>\n",
       "      <th>4</th>\n",
       "      <td>127.280</td>\n",
       "      <td>132.0500</td>\n",
       "      <td>124.130</td>\n",
       "      <td>131.83</td>\n",
       "      <td>131.83</td>\n",
       "      <td>352</td>\n",
       "      <td>0.0</td>\n",
       "      <td>2023-10-11</td>\n",
       "      <td>AMZN</td>\n",
       "    </tr>\n",
       "    <tr>\n",
       "      <th>5</th>\n",
       "      <td>331.310</td>\n",
       "      <td>340.8600</td>\n",
       "      <td>309.450</td>\n",
       "      <td>315.75</td>\n",
       "      <td>315.75</td>\n",
       "      <td>417</td>\n",
       "      <td>0.0</td>\n",
       "      <td>2023-09-29</td>\n",
       "      <td>MSFT</td>\n",
       "    </tr>\n",
       "    <tr>\n",
       "      <th>6</th>\n",
       "      <td>189.485</td>\n",
       "      <td>189.9800</td>\n",
       "      <td>167.620</td>\n",
       "      <td>171.21</td>\n",
       "      <td>171.21</td>\n",
       "      <td>1338</td>\n",
       "      <td>0.0</td>\n",
       "      <td>2023-09-29</td>\n",
       "      <td>AAPL</td>\n",
       "    </tr>\n",
       "    <tr>\n",
       "      <th>7</th>\n",
       "      <td>139.455</td>\n",
       "      <td>145.8600</td>\n",
       "      <td>123.040</td>\n",
       "      <td>127.12</td>\n",
       "      <td>127.12</td>\n",
       "      <td>1121</td>\n",
       "      <td>0.0</td>\n",
       "      <td>2023-09-29</td>\n",
       "      <td>AMZN</td>\n",
       "    </tr>\n",
       "    <tr>\n",
       "      <th>8</th>\n",
       "      <td>138.430</td>\n",
       "      <td>139.9300</td>\n",
       "      <td>128.190</td>\n",
       "      <td>131.85</td>\n",
       "      <td>131.85</td>\n",
       "      <td>390</td>\n",
       "      <td>0.0</td>\n",
       "      <td>2023-09-29</td>\n",
       "      <td>GOOG</td>\n",
       "    </tr>\n",
       "    <tr>\n",
       "      <th>9</th>\n",
       "      <td>147.260</td>\n",
       "      <td>151.9299</td>\n",
       "      <td>139.610</td>\n",
       "      <td>140.30</td>\n",
       "      <td>140.30</td>\n",
       "      <td>83</td>\n",
       "      <td>0.0</td>\n",
       "      <td>2023-09-29</td>\n",
       "      <td>IBM</td>\n",
       "    </tr>\n",
       "  </tbody>\n",
       "</table>\n",
       "</div>"
      ],
      "text/plain": [
       "      open      high      low   close  adjusted close  volume  \\\n",
       "0  171.220  179.8500  170.820  179.80          179.80     394   \n",
       "1  140.040  143.4150  139.860  143.23          143.23      24   \n",
       "2  132.155  142.2200  132.065  141.70          141.70     155   \n",
       "3  316.280  332.8200  311.215  332.42          332.42     165   \n",
       "4  127.280  132.0500  124.130  131.83          131.83     352   \n",
       "5  331.310  340.8600  309.450  315.75          315.75     417   \n",
       "6  189.485  189.9800  167.620  171.21          171.21    1338   \n",
       "7  139.455  145.8600  123.040  127.12          127.12    1121   \n",
       "8  138.430  139.9300  128.190  131.85          131.85     390   \n",
       "9  147.260  151.9299  139.610  140.30          140.30      83   \n",
       "\n",
       "   dividend amount       date symbol  \n",
       "0              0.0 2023-10-11   AAPL  \n",
       "1              0.0 2023-10-11    IBM  \n",
       "2              0.0 2023-10-11   GOOG  \n",
       "3              0.0 2023-10-11   MSFT  \n",
       "4              0.0 2023-10-11   AMZN  \n",
       "5              0.0 2023-09-29   MSFT  \n",
       "6              0.0 2023-09-29   AAPL  \n",
       "7              0.0 2023-09-29   AMZN  \n",
       "8              0.0 2023-09-29   GOOG  \n",
       "9              0.0 2023-09-29    IBM  "
      ]
     },
     "execution_count": 15,
     "metadata": {},
     "output_type": "execute_result"
    }
   ],
   "source": [
    "result_df = pd.concat([df_aapl, df_amzn, df_goog, df_msft, df_ibm], ignore_index=True)\n",
    "result_df = result_df.sort_values(by=['date'], ascending=False)\n",
    "result_df = result_df.reset_index(drop=True)\n",
    "result_df.head(10)"
   ]
  },
  {
   "cell_type": "code",
   "execution_count": 16,
   "metadata": {},
   "outputs": [
    {
     "name": "stdout",
     "output_type": "stream",
     "text": [
      "Proceso terminado\n"
     ]
    }
   ],
   "source": [
    "drop_table(conn=conn, table_name='monthly_stocks_over_time')"
   ]
  },
  {
   "cell_type": "code",
   "execution_count": 17,
   "metadata": {},
   "outputs": [
    {
     "name": "stdout",
     "output_type": "stream",
     "text": [
      "['open', 'high', 'low', 'close', 'adjusted close', 'volume', 'dividend amount', 'date', 'symbol']\n",
      "Proceso terminado\n"
     ]
    }
   ],
   "source": [
    "cargar_en_redshift(conn=conn, table_name='monthly_stocks_over_time', dataframe=result_df)"
   ]
  }
 ],
 "metadata": {
  "kernelspec": {
   "display_name": "Python 3",
   "language": "python",
   "name": "python3"
  },
  "language_info": {
   "codemirror_mode": {
    "name": "ipython",
    "version": 3
   },
   "file_extension": ".py",
   "mimetype": "text/x-python",
   "name": "python",
   "nbconvert_exporter": "python",
   "pygments_lexer": "ipython3",
   "version": "3.9.4"
  }
 },
 "nbformat": 4,
 "nbformat_minor": 2
}
