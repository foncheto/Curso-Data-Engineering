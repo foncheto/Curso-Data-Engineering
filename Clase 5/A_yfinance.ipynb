{
 "cells": [
  {
   "cell_type": "code",
   "execution_count": 1,
   "metadata": {},
   "outputs": [],
   "source": [
    "import yfinance as yf\n",
    "import pandas as pd\n",
    "import numpy as np\n",
    "import psycopg2\n",
    "import os\n",
    "from dotenv import load_dotenv\n",
    "from psycopg2.extras import execute_values"
   ]
  },
  {
   "cell_type": "code",
   "execution_count": 2,
   "metadata": {},
   "outputs": [
    {
     "name": "stdout",
     "output_type": "stream",
     "text": [
      "[*********************100%%**********************]  5 of 5 completed\n"
     ]
    },
    {
     "data": {
      "text/html": [
       "<div>\n",
       "<style scoped>\n",
       "    .dataframe tbody tr th:only-of-type {\n",
       "        vertical-align: middle;\n",
       "    }\n",
       "\n",
       "    .dataframe tbody tr th {\n",
       "        vertical-align: top;\n",
       "    }\n",
       "\n",
       "    .dataframe thead tr th {\n",
       "        text-align: left;\n",
       "    }\n",
       "\n",
       "    .dataframe thead tr:last-of-type th {\n",
       "        text-align: right;\n",
       "    }\n",
       "</style>\n",
       "<table border=\"1\" class=\"dataframe\">\n",
       "  <thead>\n",
       "    <tr>\n",
       "      <th></th>\n",
       "      <th colspan=\"5\" halign=\"left\">Adj Close</th>\n",
       "      <th colspan=\"5\" halign=\"left\">Close</th>\n",
       "      <th>...</th>\n",
       "      <th colspan=\"5\" halign=\"left\">Open</th>\n",
       "      <th colspan=\"5\" halign=\"left\">Volume</th>\n",
       "    </tr>\n",
       "    <tr>\n",
       "      <th></th>\n",
       "      <th>AAPL</th>\n",
       "      <th>AMZN</th>\n",
       "      <th>GOOG</th>\n",
       "      <th>MSFT</th>\n",
       "      <th>PFE</th>\n",
       "      <th>AAPL</th>\n",
       "      <th>AMZN</th>\n",
       "      <th>GOOG</th>\n",
       "      <th>MSFT</th>\n",
       "      <th>PFE</th>\n",
       "      <th>...</th>\n",
       "      <th>AAPL</th>\n",
       "      <th>AMZN</th>\n",
       "      <th>GOOG</th>\n",
       "      <th>MSFT</th>\n",
       "      <th>PFE</th>\n",
       "      <th>AAPL</th>\n",
       "      <th>AMZN</th>\n",
       "      <th>GOOG</th>\n",
       "      <th>MSFT</th>\n",
       "      <th>PFE</th>\n",
       "    </tr>\n",
       "    <tr>\n",
       "      <th>Date</th>\n",
       "      <th></th>\n",
       "      <th></th>\n",
       "      <th></th>\n",
       "      <th></th>\n",
       "      <th></th>\n",
       "      <th></th>\n",
       "      <th></th>\n",
       "      <th></th>\n",
       "      <th></th>\n",
       "      <th></th>\n",
       "      <th></th>\n",
       "      <th></th>\n",
       "      <th></th>\n",
       "      <th></th>\n",
       "      <th></th>\n",
       "      <th></th>\n",
       "      <th></th>\n",
       "      <th></th>\n",
       "      <th></th>\n",
       "      <th></th>\n",
       "      <th></th>\n",
       "    </tr>\n",
       "  </thead>\n",
       "  <tbody>\n",
       "    <tr>\n",
       "      <th>2023-10-05</th>\n",
       "      <td>174.910004</td>\n",
       "      <td>125.959999</td>\n",
       "      <td>135.990005</td>\n",
       "      <td>319.359985</td>\n",
       "      <td>33.470001</td>\n",
       "      <td>174.910004</td>\n",
       "      <td>125.959999</td>\n",
       "      <td>135.990005</td>\n",
       "      <td>319.359985</td>\n",
       "      <td>33.470001</td>\n",
       "      <td>...</td>\n",
       "      <td>173.789993</td>\n",
       "      <td>126.709999</td>\n",
       "      <td>136.130005</td>\n",
       "      <td>319.089996</td>\n",
       "      <td>33.450001</td>\n",
       "      <td>48527900</td>\n",
       "      <td>39660600</td>\n",
       "      <td>15922900</td>\n",
       "      <td>16965600</td>\n",
       "      <td>21279400</td>\n",
       "    </tr>\n",
       "    <tr>\n",
       "      <th>2023-10-06</th>\n",
       "      <td>177.490005</td>\n",
       "      <td>127.959999</td>\n",
       "      <td>138.729996</td>\n",
       "      <td>327.260010</td>\n",
       "      <td>33.130001</td>\n",
       "      <td>177.490005</td>\n",
       "      <td>127.959999</td>\n",
       "      <td>138.729996</td>\n",
       "      <td>327.260010</td>\n",
       "      <td>33.130001</td>\n",
       "      <td>...</td>\n",
       "      <td>173.800003</td>\n",
       "      <td>124.160004</td>\n",
       "      <td>134.940002</td>\n",
       "      <td>316.549988</td>\n",
       "      <td>33.520000</td>\n",
       "      <td>57224100</td>\n",
       "      <td>46795900</td>\n",
       "      <td>20819300</td>\n",
       "      <td>25645500</td>\n",
       "      <td>23750600</td>\n",
       "    </tr>\n",
       "  </tbody>\n",
       "</table>\n",
       "<p>2 rows × 30 columns</p>\n",
       "</div>"
      ],
      "text/plain": [
       "             Adj Close                                                 \\\n",
       "                  AAPL        AMZN        GOOG        MSFT        PFE   \n",
       "Date                                                                    \n",
       "2023-10-05  174.910004  125.959999  135.990005  319.359985  33.470001   \n",
       "2023-10-06  177.490005  127.959999  138.729996  327.260010  33.130001   \n",
       "\n",
       "                 Close                                                 ...  \\\n",
       "                  AAPL        AMZN        GOOG        MSFT        PFE  ...   \n",
       "Date                                                                   ...   \n",
       "2023-10-05  174.910004  125.959999  135.990005  319.359985  33.470001  ...   \n",
       "2023-10-06  177.490005  127.959999  138.729996  327.260010  33.130001  ...   \n",
       "\n",
       "                  Open                                                 \\\n",
       "                  AAPL        AMZN        GOOG        MSFT        PFE   \n",
       "Date                                                                    \n",
       "2023-10-05  173.789993  126.709999  136.130005  319.089996  33.450001   \n",
       "2023-10-06  173.800003  124.160004  134.940002  316.549988  33.520000   \n",
       "\n",
       "              Volume                                          \n",
       "                AAPL      AMZN      GOOG      MSFT       PFE  \n",
       "Date                                                          \n",
       "2023-10-05  48527900  39660600  15922900  16965600  21279400  \n",
       "2023-10-06  57224100  46795900  20819300  25645500  23750600  \n",
       "\n",
       "[2 rows x 30 columns]"
      ]
     },
     "execution_count": 2,
     "metadata": {},
     "output_type": "execute_result"
    }
   ],
   "source": [
    "tickers = [\"PFE\", \"MSFT\", \"AAPL\", \"GOOG\", \"AMZN\"]\n",
    "data = yf.download(tickers, start=\"2023-10-05\", end=\"2023-10-10\")\n",
    "data.head(2)"
   ]
  },
  {
   "cell_type": "code",
   "execution_count": 3,
   "metadata": {},
   "outputs": [
    {
     "data": {
      "text/html": [
       "<div>\n",
       "<style scoped>\n",
       "    .dataframe tbody tr th:only-of-type {\n",
       "        vertical-align: middle;\n",
       "    }\n",
       "\n",
       "    .dataframe tbody tr th {\n",
       "        vertical-align: top;\n",
       "    }\n",
       "\n",
       "    .dataframe thead th {\n",
       "        text-align: right;\n",
       "    }\n",
       "</style>\n",
       "<table border=\"1\" class=\"dataframe\">\n",
       "  <thead>\n",
       "    <tr style=\"text-align: right;\">\n",
       "      <th></th>\n",
       "      <th>Open</th>\n",
       "      <th>High</th>\n",
       "      <th>Low</th>\n",
       "      <th>Close</th>\n",
       "      <th>Volume</th>\n",
       "      <th>Dividends</th>\n",
       "      <th>Stock Splits</th>\n",
       "      <th>Date</th>\n",
       "    </tr>\n",
       "  </thead>\n",
       "  <tbody>\n",
       "    <tr>\n",
       "      <th>0</th>\n",
       "      <td>160.780194</td>\n",
       "      <td>161.617898</td>\n",
       "      <td>159.344119</td>\n",
       "      <td>159.663254</td>\n",
       "      <td>50133100</td>\n",
       "      <td>0.0</td>\n",
       "      <td>0.0</td>\n",
       "      <td>2023-04-12 00:00:00-04:00</td>\n",
       "    </tr>\n",
       "    <tr>\n",
       "      <th>1</th>\n",
       "      <td>161.189081</td>\n",
       "      <td>165.347703</td>\n",
       "      <td>160.979647</td>\n",
       "      <td>165.108353</td>\n",
       "      <td>68445600</td>\n",
       "      <td>0.0</td>\n",
       "      <td>0.0</td>\n",
       "      <td>2023-04-13 00:00:00-04:00</td>\n",
       "    </tr>\n",
       "  </tbody>\n",
       "</table>\n",
       "</div>"
      ],
      "text/plain": [
       "         Open        High         Low       Close    Volume  Dividends  \\\n",
       "0  160.780194  161.617898  159.344119  159.663254  50133100        0.0   \n",
       "1  161.189081  165.347703  160.979647  165.108353  68445600        0.0   \n",
       "\n",
       "   Stock Splits                      Date  \n",
       "0           0.0 2023-04-12 00:00:00-04:00  \n",
       "1           0.0 2023-04-13 00:00:00-04:00  "
      ]
     },
     "execution_count": 3,
     "metadata": {},
     "output_type": "execute_result"
    }
   ],
   "source": [
    "apple = yf.Ticker(\"AAPL\")\n",
    "hist_ap = apple.history(period=\"6mo\")\n",
    "hist_ap['Date'] = hist_ap.index\n",
    "hist_ap= hist_ap.reset_index(drop=True)\n",
    "hist_ap.head(2)"
   ]
  },
  {
   "cell_type": "code",
   "execution_count": 4,
   "metadata": {},
   "outputs": [
    {
     "data": {
      "text/html": [
       "<div>\n",
       "<style scoped>\n",
       "    .dataframe tbody tr th:only-of-type {\n",
       "        vertical-align: middle;\n",
       "    }\n",
       "\n",
       "    .dataframe tbody tr th {\n",
       "        vertical-align: top;\n",
       "    }\n",
       "\n",
       "    .dataframe thead th {\n",
       "        text-align: right;\n",
       "    }\n",
       "</style>\n",
       "<table border=\"1\" class=\"dataframe\">\n",
       "  <thead>\n",
       "    <tr style=\"text-align: right;\">\n",
       "      <th></th>\n",
       "      <th>Open</th>\n",
       "      <th>High</th>\n",
       "      <th>Low</th>\n",
       "      <th>Close</th>\n",
       "      <th>Volume</th>\n",
       "      <th>Dividends</th>\n",
       "      <th>Stock Splits</th>\n",
       "      <th>Date</th>\n",
       "    </tr>\n",
       "  </thead>\n",
       "  <tbody>\n",
       "    <tr>\n",
       "      <th>0</th>\n",
       "      <td>100.400002</td>\n",
       "      <td>100.510002</td>\n",
       "      <td>97.709999</td>\n",
       "      <td>97.830002</td>\n",
       "      <td>56735000</td>\n",
       "      <td>0.0</td>\n",
       "      <td>0.0</td>\n",
       "      <td>2023-04-12 00:00:00-04:00</td>\n",
       "    </tr>\n",
       "    <tr>\n",
       "      <th>1</th>\n",
       "      <td>98.949997</td>\n",
       "      <td>102.570000</td>\n",
       "      <td>98.709999</td>\n",
       "      <td>102.400002</td>\n",
       "      <td>67925100</td>\n",
       "      <td>0.0</td>\n",
       "      <td>0.0</td>\n",
       "      <td>2023-04-13 00:00:00-04:00</td>\n",
       "    </tr>\n",
       "  </tbody>\n",
       "</table>\n",
       "</div>"
      ],
      "text/plain": [
       "         Open        High        Low       Close    Volume  Dividends  \\\n",
       "0  100.400002  100.510002  97.709999   97.830002  56735000        0.0   \n",
       "1   98.949997  102.570000  98.709999  102.400002  67925100        0.0   \n",
       "\n",
       "   Stock Splits                      Date  \n",
       "0           0.0 2023-04-12 00:00:00-04:00  \n",
       "1           0.0 2023-04-13 00:00:00-04:00  "
      ]
     },
     "execution_count": 4,
     "metadata": {},
     "output_type": "execute_result"
    }
   ],
   "source": [
    "amazon = yf.Ticker(\"AMZN\")\n",
    "hist_az = amazon.history(period=\"6mo\")\n",
    "hist_az['Date'] = hist_az.index\n",
    "hist_az= hist_az.reset_index(drop=True)\n",
    "hist_az.head(2)"
   ]
  },
  {
   "cell_type": "code",
   "execution_count": 5,
   "metadata": {},
   "outputs": [
    {
     "data": {
      "text/html": [
       "<div>\n",
       "<style scoped>\n",
       "    .dataframe tbody tr th:only-of-type {\n",
       "        vertical-align: middle;\n",
       "    }\n",
       "\n",
       "    .dataframe tbody tr th {\n",
       "        vertical-align: top;\n",
       "    }\n",
       "\n",
       "    .dataframe thead th {\n",
       "        text-align: right;\n",
       "    }\n",
       "</style>\n",
       "<table border=\"1\" class=\"dataframe\">\n",
       "  <thead>\n",
       "    <tr style=\"text-align: right;\">\n",
       "      <th></th>\n",
       "      <th>Open</th>\n",
       "      <th>High</th>\n",
       "      <th>Low</th>\n",
       "      <th>Close</th>\n",
       "      <th>Volume</th>\n",
       "      <th>Dividends</th>\n",
       "      <th>Stock Splits</th>\n",
       "      <th>Date</th>\n",
       "    </tr>\n",
       "  </thead>\n",
       "  <tbody>\n",
       "    <tr>\n",
       "      <th>0</th>\n",
       "      <td>107.389999</td>\n",
       "      <td>107.586998</td>\n",
       "      <td>104.970001</td>\n",
       "      <td>105.220001</td>\n",
       "      <td>22761600</td>\n",
       "      <td>0.0</td>\n",
       "      <td>0.0</td>\n",
       "      <td>2023-04-12 00:00:00-04:00</td>\n",
       "    </tr>\n",
       "    <tr>\n",
       "      <th>1</th>\n",
       "      <td>106.470001</td>\n",
       "      <td>108.264999</td>\n",
       "      <td>106.440002</td>\n",
       "      <td>108.190002</td>\n",
       "      <td>21650700</td>\n",
       "      <td>0.0</td>\n",
       "      <td>0.0</td>\n",
       "      <td>2023-04-13 00:00:00-04:00</td>\n",
       "    </tr>\n",
       "  </tbody>\n",
       "</table>\n",
       "</div>"
      ],
      "text/plain": [
       "         Open        High         Low       Close    Volume  Dividends  \\\n",
       "0  107.389999  107.586998  104.970001  105.220001  22761600        0.0   \n",
       "1  106.470001  108.264999  106.440002  108.190002  21650700        0.0   \n",
       "\n",
       "   Stock Splits                      Date  \n",
       "0           0.0 2023-04-12 00:00:00-04:00  \n",
       "1           0.0 2023-04-13 00:00:00-04:00  "
      ]
     },
     "execution_count": 5,
     "metadata": {},
     "output_type": "execute_result"
    }
   ],
   "source": [
    "google = yf.Ticker(\"GOOG\")\n",
    "hist_gl = google.history(period=\"6mo\")\n",
    "hist_gl['Date'] = hist_gl.index\n",
    "hist_gl= hist_gl.reset_index(drop=True)\n",
    "hist_gl.head(2)"
   ]
  },
  {
   "cell_type": "code",
   "execution_count": 6,
   "metadata": {},
   "outputs": [
    {
     "name": "stdout",
     "output_type": "stream",
     "text": [
      "Connected to Redshift successfully!\n"
     ]
    }
   ],
   "source": [
    "load_dotenv()\n",
    "\n",
    "CODER_REDSHIFT_HOST = os.environ.get('CODER_REDSHIFT_HOST')\n",
    "CODER_REDSHIFT_DB = os.environ.get('CODER_REDSHIFT_DB')\n",
    "CODER_REDSHIFT_USER = os.environ.get('CODER_REDSHIFT_USER')\n",
    "CODER_REDSHIFT_PASS = os.environ.get('CODER_REDSHIFT_PASS')\n",
    "CODER_REDSHIFT_PORT = os.environ.get('CODER_REDSHIFT_PORT')\n",
    "\n",
    "try:\n",
    "    conn = psycopg2.connect(\n",
    "        host=CODER_REDSHIFT_HOST,\n",
    "        dbname=CODER_REDSHIFT_DB,\n",
    "        user=CODER_REDSHIFT_USER,\n",
    "        password=CODER_REDSHIFT_PASS,\n",
    "        port=CODER_REDSHIFT_PORT,\n",
    "\n",
    "    )\n",
    "    print(\"Connected to Redshift successfully!\")\n",
    "    \n",
    "except Exception as e:\n",
    "    print(\"Unable to connect to Redshift.\")\n",
    "    print(e)"
   ]
  },
  {
   "cell_type": "code",
   "execution_count": 7,
   "metadata": {},
   "outputs": [
    {
     "data": {
      "text/plain": [
       "Open                                     float64\n",
       "High                                     float64\n",
       "Low                                      float64\n",
       "Close                                    float64\n",
       "Volume                                     int64\n",
       "Dividends                                float64\n",
       "Stock Splits                             float64\n",
       "Date            datetime64[ns, America/New_York]\n",
       "dtype: object"
      ]
     },
     "execution_count": 7,
     "metadata": {},
     "output_type": "execute_result"
    }
   ],
   "source": [
    "hist_az.dtypes"
   ]
  },
  {
   "cell_type": "code",
   "execution_count": 8,
   "metadata": {},
   "outputs": [],
   "source": [
    "def cargar_en_redshift(conn, table_name, dataframe):\n",
    "    dtypes = dataframe.dtypes\n",
    "    cols = list(dtypes.index)\n",
    "    print(cols)\n",
    "    tipos = list(dtypes.values)\n",
    "    type_map = {\n",
    "        'float64': 'FLOAT',\n",
    "        'int64': 'INT',\n",
    "        'datetime64[ns, America/New_York]': 'TIMESTAMP'\n",
    "    }\n",
    "    sql_dtypes = [type_map.get(str(dtype), 'VARCHAR(255)') for dtype in tipos]\n",
    "\n",
    "    # Definir formato SQL VARIABLE TIPO_DATO\n",
    "    column_defs = [f'\"{name}\" {data_type}' for name, data_type in zip(cols, sql_dtypes)]\n",
    "\n",
    "    # Combine column definitions into the CREATE TABLE statement\n",
    "    table_schema = f\"\"\"\n",
    "        CREATE TABLE IF NOT EXISTS {table_name} ({', '.join(column_defs)});\n",
    "        \"\"\"\n",
    "\n",
    "    # Crear la tabla\n",
    "    cur = conn.cursor()\n",
    "    try:\n",
    "        cur.execute(table_schema)\n",
    "\n",
    "        # Generar los valores a insertar\n",
    "        values = [tuple(x) for x in dataframe.values]\n",
    "\n",
    "        # Definir el INSERT\n",
    "        insert_sql = f\"INSERT INTO {table_name} ({', '.join(cols)}) VALUES %s\"\n",
    "        insert_sql = f\"INSERT INTO {table_name} (\\\"Open\\\", \\\"High\\\", \\\"Low\\\", \\\"Close\\\", \\\"Volume\\\", \\\"Dividends\\\", \\\"Stock Splits\\\", \\\"Date\\\") VALUES %s\"\n",
    "\n",
    "\n",
    "        # Execute the transaction to insert the data\n",
    "        cur.execute(\"BEGIN\")\n",
    "        execute_values(cur, insert_sql, values)\n",
    "        cur.execute(\"COMMIT\")\n",
    "        print('Proceso terminado')\n",
    "    except Exception as e:\n",
    "        print(f\"Error: {e}\")\n",
    "        conn.rollback()  # Rollback the transaction on error\n",
    "\n",
    "def drop_table(conn, table_name):\n",
    "    cur = conn.cursor()\n",
    "    try:\n",
    "        cur.execute(f\"DROP TABLE IF EXISTS {table_name}\")\n",
    "        conn.commit()\n",
    "        print('Proceso terminado')\n",
    "    except Exception as e:\n",
    "        print(f\"Error: {e}\")\n",
    "        conn.rollback()  # Rollback the transaction on error"
   ]
  },
  {
   "cell_type": "code",
   "execution_count": 9,
   "metadata": {},
   "outputs": [
    {
     "name": "stdout",
     "output_type": "stream",
     "text": [
      "Proceso terminado\n",
      "Proceso terminado\n",
      "Proceso terminado\n"
     ]
    }
   ],
   "source": [
    "drop_table(conn=conn, table_name='amazon')\n",
    "drop_table(conn=conn, table_name='apple')\n",
    "drop_table(conn=conn, table_name='google')"
   ]
  },
  {
   "cell_type": "code",
   "execution_count": 10,
   "metadata": {},
   "outputs": [
    {
     "name": "stdout",
     "output_type": "stream",
     "text": [
      "['Open', 'High', 'Low', 'Close', 'Volume', 'Dividends', 'Stock Splits', 'Date']\n",
      "Proceso terminado\n"
     ]
    }
   ],
   "source": [
    "cargar_en_redshift(conn=conn, table_name='amazon', dataframe=hist_az)"
   ]
  },
  {
   "cell_type": "code",
   "execution_count": 11,
   "metadata": {},
   "outputs": [
    {
     "name": "stdout",
     "output_type": "stream",
     "text": [
      "['Open', 'High', 'Low', 'Close', 'Volume', 'Dividends', 'Stock Splits', 'Date']\n",
      "Proceso terminado\n"
     ]
    }
   ],
   "source": [
    "cargar_en_redshift(conn=conn, table_name='apple', dataframe=hist_ap)"
   ]
  },
  {
   "cell_type": "code",
   "execution_count": 12,
   "metadata": {},
   "outputs": [
    {
     "name": "stdout",
     "output_type": "stream",
     "text": [
      "['Open', 'High', 'Low', 'Close', 'Volume', 'Dividends', 'Stock Splits', 'Date']\n",
      "Proceso terminado\n"
     ]
    }
   ],
   "source": [
    "cargar_en_redshift(conn=conn, table_name='google', dataframe=hist_gl)"
   ]
  }
 ],
 "metadata": {
  "kernelspec": {
   "display_name": "Python 3",
   "language": "python",
   "name": "python3"
  },
  "language_info": {
   "codemirror_mode": {
    "name": "ipython",
    "version": 3
   },
   "file_extension": ".py",
   "mimetype": "text/x-python",
   "name": "python",
   "nbconvert_exporter": "python",
   "pygments_lexer": "ipython3",
   "version": "3.9.5"
  }
 },
 "nbformat": 4,
 "nbformat_minor": 2
}
